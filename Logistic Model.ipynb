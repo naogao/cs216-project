{
 "cells": [
  {
   "cell_type": "code",
   "execution_count": 1,
   "id": "0376243b",
   "metadata": {},
   "outputs": [],
   "source": [
    "import pandas as pd\n",
    "import seaborn as sns\n",
    "import numpy as np"
   ]
  },
  {
   "cell_type": "code",
   "execution_count": 27,
   "id": "60499419",
   "metadata": {},
   "outputs": [
    {
     "name": "stdout",
     "output_type": "stream",
     "text": [
      "  iso_code continent     location       date  total_cases  new_cases  \\\n",
      "0      AFG      Asia  Afghanistan 2020-02-24          1.0        1.0   \n",
      "1      AFG      Asia  Afghanistan 2020-02-25          1.0        0.0   \n",
      "2      AFG      Asia  Afghanistan 2020-02-26          1.0        0.0   \n",
      "3      AFG      Asia  Afghanistan 2020-02-27          1.0        0.0   \n",
      "4      AFG      Asia  Afghanistan 2020-02-28          1.0        0.0   \n",
      "\n",
      "   new_cases_smoothed  total_deaths  new_deaths  new_deaths_smoothed  ...  \\\n",
      "0                 NaN           NaN         NaN                  NaN  ...   \n",
      "1                 NaN           NaN         NaN                  NaN  ...   \n",
      "2                 NaN           NaN         NaN                  NaN  ...   \n",
      "3                 NaN           NaN         NaN                  NaN  ...   \n",
      "4                 NaN           NaN         NaN                  NaN  ...   \n",
      "\n",
      "   extreme_poverty  cardiovasc_death_rate  diabetes_prevalence  \\\n",
      "0              NaN                597.029                 9.59   \n",
      "1              NaN                597.029                 9.59   \n",
      "2              NaN                597.029                 9.59   \n",
      "3              NaN                597.029                 9.59   \n",
      "4              NaN                597.029                 9.59   \n",
      "\n",
      "   female_smokers  male_smokers  handwashing_facilities  \\\n",
      "0             NaN           NaN                  37.746   \n",
      "1             NaN           NaN                  37.746   \n",
      "2             NaN           NaN                  37.746   \n",
      "3             NaN           NaN                  37.746   \n",
      "4             NaN           NaN                  37.746   \n",
      "\n",
      "   hospital_beds_per_thousand  life_expectancy  human_development_index  \\\n",
      "0                         0.5            64.83                    0.511   \n",
      "1                         0.5            64.83                    0.511   \n",
      "2                         0.5            64.83                    0.511   \n",
      "3                         0.5            64.83                    0.511   \n",
      "4                         0.5            64.83                    0.511   \n",
      "\n",
      "   excess_mortality  \n",
      "0               NaN  \n",
      "1               NaN  \n",
      "2               NaN  \n",
      "3               NaN  \n",
      "4               NaN  \n",
      "\n",
      "[5 rows x 60 columns]              name alpha-2 alpha-3  country-code     iso_3166-2   region  \\\n",
      "0     Afghanistan      AF     AFG             4  ISO 3166-2:AF     Asia   \n",
      "1   Åland Islands      AX     ALA           248  ISO 3166-2:AX   Europe   \n",
      "2         Albania      AL     ALB             8  ISO 3166-2:AL   Europe   \n",
      "3         Algeria      DZ     DZA            12  ISO 3166-2:DZ   Africa   \n",
      "4  American Samoa      AS     ASM            16  ISO 3166-2:AS  Oceania   \n",
      "\n",
      "        sub-region intermediate-region  region-code  sub-region-code  \\\n",
      "0    Southern Asia                 NaN        142.0             34.0   \n",
      "1  Northern Europe                 NaN        150.0            154.0   \n",
      "2  Southern Europe                 NaN        150.0             39.0   \n",
      "3  Northern Africa                 NaN          2.0             15.0   \n",
      "4        Polynesia                 NaN          9.0             61.0   \n",
      "\n",
      "   intermediate-region-code  \n",
      "0                       NaN  \n",
      "1                       NaN  \n",
      "2                       NaN  \n",
      "3                       NaN  \n",
      "4                       NaN          tweet_id  sentiment                                         tweet_text  \\\n",
      "0  1.382896e+18          2  Pranam message for today manifested in Dhyan b...   \n",
      "1  1.362166e+18          3  Lab studies suggest #Pfizer, #Moderna vaccines...   \n",
      "2  1.351285e+18          1  Still want to take the #jab?\\n#PfizerBioNTech\\...   \n",
      "3  1.377729e+18          2                        Officially a #Moderna gay ?   \n",
      "4  1.382048e+18          2  Abusing #atmanirbhar Bharat as a political too...   \n",
      "\n",
      "                    id           user_name   user_location  \\\n",
      "0  1382896334886248448        ANJALI KALIA             NaN   \n",
      "1  1362165556091191296         Jeff Ostach  Wisconsin, USA   \n",
      "2  1351285090077323264  Signs Of The Times          Global   \n",
      "3  1377729426784411648             Richard   Kalamazoo, MI   \n",
      "4  1382047921160417280      Akash Karmakar             NaN   \n",
      "\n",
      "                                    user_description         user_created  \\\n",
      "0  Trustee Pranam, Humanity Nature Bharat Culture...  2009-09-23 07:36:45   \n",
      "1  #Writer, #Politics/#Sports, #Badgers #Packers ...  2009-03-30 16:50:40   \n",
      "2  Independent commentary & analysis on world eve...  2009-02-15 19:24:21   \n",
      "3  Don’t shrink yourself to be digestible, let th...  2015-08-06 14:56:46   \n",
      "4                                                NaN  2014-05-27 17:52:10   \n",
      "\n",
      "   user_followers  user_friends  user_favourites  user_verified  \\\n",
      "0             660           942            28442          False   \n",
      "1            3744          4702            65586          False   \n",
      "2            8807          1094            10100          False   \n",
      "3            4491          1223            70158          False   \n",
      "4              69           209              121          False   \n",
      "\n",
      "                  date                                               text  \\\n",
      "0  2021-04-16 03:19:13  Pranam message for today manifested in Dhyan b...   \n",
      "1  2021-02-17 22:22:31  Lab studies suggest #Pfizer, #Moderna vaccines...   \n",
      "2  2021-01-18 21:47:25  Still want to take the #jab?\\n#PfizerBioNTech\\...   \n",
      "3  2021-04-01 21:07:46                        Officially a #Moderna gay 💉   \n",
      "4  2021-04-13 19:07:56  Abusing #atmanirbhar Bharat as a political too...   \n",
      "\n",
      "                                            hashtags              source  \\\n",
      "0  ['truth', 'love', 'karm', 'light', 'nature', '...  Twitter for iPhone   \n",
      "1        ['Pfizer', 'Moderna', 'coronavirusvariant']  Twitter for iPhone   \n",
      "2           ['jab', 'PfizerBioNTech', 'sideeffects']     Twitter Web App   \n",
      "3                                        ['Moderna']  Twitter for iPhone   \n",
      "4                                    ['atmanirbhar']  Twitter for iPhone   \n",
      "\n",
      "   retweets  favorites  is_retweet  \n",
      "0         1          6       False  \n",
      "1         1          2       False  \n",
      "2         6          3       False  \n",
      "3         0         16       False  \n",
      "4         0          1       False  \n"
     ]
    }
   ],
   "source": [
    "vaccinations = pd.read_csv(\"owid-covid-data.csv\")\n",
    "vaccinations['date'] = pd.to_datetime(vaccinations['date'], format='%Y-%m-%d')\n",
    "\n",
    "regions = pd.read_csv(\"vaccinationAnalysis/all.csv\")\n",
    "\n",
    "tweets = pd.read_csv(\"vaccination_all_tweets.csv\")\n",
    "sentiments = pd.read_csv(\"covid-19_vaccine_tweets_with_sentiment.csv\")\n",
    "all_tweet_data = pd.merge(sentiments, tweets, left_on = 'tweet_id', right_on = 'id')\n",
    "all_tweet_data.rename(columns={'label': 'sentiment'}, inplace=True)\n",
    "\n",
    "print(vaccinations.head(), regions.head(), all_tweet_data.head())"
   ]
  },
  {
   "cell_type": "code",
   "execution_count": 28,
   "id": "a6dc5569",
   "metadata": {},
   "outputs": [],
   "source": [
    "vax_info = vaccinations[['iso_code', 'location', 'people_vaccinated_per_hundred', 'continent']]\n",
    "region_info = regions[['name', 'alpha-2', 'alpha-3', 'country-code', 'region', 'region-code']]\n",
    "tweet_info = all_tweet_data[['id', 'user_location', 'user_followers', 'sentiment']]\n"
   ]
  },
  {
   "cell_type": "code",
   "execution_count": 33,
   "id": "61c2c772",
   "metadata": {},
   "outputs": [],
   "source": [
    "vax_n = region_info['name']\n",
    "vax_a2 = region_info['alpha-2']\n",
    "vax_a3 = region_info['alpha-3']\n",
    "vax_r = region_info['region']\n",
    "def fixlocation(loc):\n",
    "    loc = str(loc).split(\", \")\n",
    "    hit = False\n",
    "    for i in range(len(vax_n)):\n",
    "        for l in loc:\n",
    "            if l == str(vax_n[i]):\n",
    "                return str(vax_n[i])\n",
    "            elif l == str(vax_a2[i]):\n",
    "                return str(vax_n[i])\n",
    "            elif l == str(vax_a3[i]):\n",
    "                return str(vax_n[i])\n",
    "            elif l == str(vax_r[i]):\n",
    "                return str(vax_n[i])\n",
    "    return loc[-1]\n",
    "\n",
    "def categorizeNum(val):\n",
    "    if val == 1:\n",
    "        return \"negative\"\n",
    "    elif val == 2:\n",
    "        return \"neutral\"\n",
    "    elif val > 2:\n",
    "        return \"positive\"\n",
    "    else:\n",
    "        return \"unsure\""
   ]
  },
  {
   "cell_type": "code",
   "execution_count": 34,
   "id": "c3a81199",
   "metadata": {},
   "outputs": [],
   "source": [
    "tweet_info = tweet_info.dropna(how='any',axis=0) \n",
    "tweet_info['location'] = [fixlocation(loc) for loc in tweet_info['user_location']]\n",
    "tweet_info = pd.merge(tweet_info, region_info, left_on='location', right_on='name', how='inner')"
   ]
  },
  {
   "cell_type": "code",
   "execution_count": 18,
   "id": "9ad88610",
   "metadata": {},
   "outputs": [
    {
     "name": "stdout",
     "output_type": "stream",
     "text": [
      "                     id                  user_location  user_followers  \\\n",
      "0   1362165556091191296                 Wisconsin, USA            3744   \n",
      "1   1384834947110903808            North Carolina, USA             534   \n",
      "2   1359713613087469568                Des Moines, USA             269   \n",
      "3   1355007738003255296                 Minnesota, USA              30   \n",
      "4   1353930694267817984                    Oregon, USA              23   \n",
      "5   1381742837474193408                  Maryland, USA             258   \n",
      "6   1346571604088729600                            USA            1283   \n",
      "7   1366427896525578240                      Ohio, USA            1832   \n",
      "8   1367563642418458624            Virgin Islands, USA              16   \n",
      "9   1368941492593647616                  New York, USA             456   \n",
      "10  1383120250888081408                            USA             345   \n",
      "11  1384962498936426496                   Arizona, USA             980   \n",
      "12  1380254488808673280                      Iowa, USA           23856   \n",
      "13  1349765020914106368                 Louisiana, USA              63   \n",
      "14  1381977050135822336           Hudson, Florida, USA             390   \n",
      "15  1382809632599642112                 Tennessee, USA               7   \n",
      "16  1374890686667968512                  Colorado, USA             369   \n",
      "17  1346887419468132352                  Michigan, USA               3   \n",
      "18  1381612940843966464             Massachusetts, USA             109   \n",
      "19  1377724259359993856                  New York, USA             418   \n",
      "20  1381747800480886784           Hudson, Florida, USA             390   \n",
      "21  1382509441333874688                California, USA             253   \n",
      "22  1364517334166085632                California, USA            4963   \n",
      "23  1380504234639171584             Massachusetts, USA             285   \n",
      "24  1375563205888593920                      Ohio, USA             729   \n",
      "25  1360936525119123456                California, USA             529   \n",
      "26  1358490982233165824                   Arizona, USA              47   \n",
      "27  1374191509583532032                   Arizona, USA             208   \n",
      "28  1346853360360632320                  Michigan, USA               3   \n",
      "29  1370492408237068288             Massachusetts, USA             669   \n",
      "30  1379940012637220864                            USA              51   \n",
      "31  1367042952527302656               Connecticut, USA            1225   \n",
      "32  1381551830270889984  Mumbai, Delhi, Kolkata, India             338   \n",
      "33  1366242037721223168                  Mumbai, India            7363   \n",
      "34  1381467315162603520                          India              30   \n",
      "35  1380777567112867840                          India         2088295   \n",
      "36  1384993345835966464                          India             454   \n",
      "37  1384834144828477440               New Delhi, India            1314   \n",
      "38  1343559031462518784             Maharashtra, India           23069   \n",
      "39  1366436791742439424                          India         1544318   \n",
      "40  1384788012983197696                          India               9   \n",
      "41  1369920243884199936                 Chennai, India             326   \n",
      "42  1366272420684828672                 Bankura, India             298   \n",
      "43  1379985479282552832                          India            1091   \n",
      "44  1367377242049814528                 Chennai, India            7450   \n",
      "45  1367364474701705216                          India            2285   \n",
      "46  1382898165486080000                          India           22062   \n",
      "47  1379697213245333504                          India            9604   \n",
      "48  1367146976064663552                 Chennai, India           15559   \n",
      "49  1383067006912524288              Coimbatore, India              74   \n",
      "\n",
      "    sentiment                  location                      name alpha-2  \\\n",
      "0           3  United States of America  United States of America      US   \n",
      "1           2  United States of America  United States of America      US   \n",
      "2           3  United States of America  United States of America      US   \n",
      "3           2  United States of America  United States of America      US   \n",
      "4           2  United States of America  United States of America      US   \n",
      "5           2  United States of America  United States of America      US   \n",
      "6           2  United States of America  United States of America      US   \n",
      "7           2  United States of America  United States of America      US   \n",
      "8           2  United States of America  United States of America      US   \n",
      "9           2  United States of America  United States of America      US   \n",
      "10          3  United States of America  United States of America      US   \n",
      "11          3  United States of America  United States of America      US   \n",
      "12          2  United States of America  United States of America      US   \n",
      "13          2  United States of America  United States of America      US   \n",
      "14          3  United States of America  United States of America      US   \n",
      "15          2  United States of America  United States of America      US   \n",
      "16          2  United States of America  United States of America      US   \n",
      "17          2  United States of America  United States of America      US   \n",
      "18          2  United States of America  United States of America      US   \n",
      "19          3  United States of America  United States of America      US   \n",
      "20          2  United States of America  United States of America      US   \n",
      "21          1  United States of America  United States of America      US   \n",
      "22          1  United States of America  United States of America      US   \n",
      "23          3  United States of America  United States of America      US   \n",
      "24          3  United States of America  United States of America      US   \n",
      "25          3  United States of America  United States of America      US   \n",
      "26          3  United States of America  United States of America      US   \n",
      "27          3  United States of America  United States of America      US   \n",
      "28          2  United States of America  United States of America      US   \n",
      "29          2  United States of America  United States of America      US   \n",
      "30          2  United States of America  United States of America      US   \n",
      "31          3  United States of America  United States of America      US   \n",
      "32          2                     India                     India      IN   \n",
      "33          2                     India                     India      IN   \n",
      "34          3                     India                     India      IN   \n",
      "35          3                     India                     India      IN   \n",
      "36          2                     India                     India      IN   \n",
      "37          2                     India                     India      IN   \n",
      "38          2                     India                     India      IN   \n",
      "39          2                     India                     India      IN   \n",
      "40          3                     India                     India      IN   \n",
      "41          2                     India                     India      IN   \n",
      "42          2                     India                     India      IN   \n",
      "43          2                     India                     India      IN   \n",
      "44          2                     India                     India      IN   \n",
      "45          2                     India                     India      IN   \n",
      "46          2                     India                     India      IN   \n",
      "47          2                     India                     India      IN   \n",
      "48          3                     India                     India      IN   \n",
      "49          2                     India                     India      IN   \n",
      "\n",
      "   alpha-3  country-code    region  region-code  \n",
      "0      USA           840  Americas         19.0  \n",
      "1      USA           840  Americas         19.0  \n",
      "2      USA           840  Americas         19.0  \n",
      "3      USA           840  Americas         19.0  \n",
      "4      USA           840  Americas         19.0  \n",
      "5      USA           840  Americas         19.0  \n",
      "6      USA           840  Americas         19.0  \n",
      "7      USA           840  Americas         19.0  \n",
      "8      USA           840  Americas         19.0  \n",
      "9      USA           840  Americas         19.0  \n",
      "10     USA           840  Americas         19.0  \n",
      "11     USA           840  Americas         19.0  \n",
      "12     USA           840  Americas         19.0  \n",
      "13     USA           840  Americas         19.0  \n",
      "14     USA           840  Americas         19.0  \n",
      "15     USA           840  Americas         19.0  \n",
      "16     USA           840  Americas         19.0  \n",
      "17     USA           840  Americas         19.0  \n",
      "18     USA           840  Americas         19.0  \n",
      "19     USA           840  Americas         19.0  \n",
      "20     USA           840  Americas         19.0  \n",
      "21     USA           840  Americas         19.0  \n",
      "22     USA           840  Americas         19.0  \n",
      "23     USA           840  Americas         19.0  \n",
      "24     USA           840  Americas         19.0  \n",
      "25     USA           840  Americas         19.0  \n",
      "26     USA           840  Americas         19.0  \n",
      "27     USA           840  Americas         19.0  \n",
      "28     USA           840  Americas         19.0  \n",
      "29     USA           840  Americas         19.0  \n",
      "30     USA           840  Americas         19.0  \n",
      "31     USA           840  Americas         19.0  \n",
      "32     IND           356      Asia        142.0  \n",
      "33     IND           356      Asia        142.0  \n",
      "34     IND           356      Asia        142.0  \n",
      "35     IND           356      Asia        142.0  \n",
      "36     IND           356      Asia        142.0  \n",
      "37     IND           356      Asia        142.0  \n",
      "38     IND           356      Asia        142.0  \n",
      "39     IND           356      Asia        142.0  \n",
      "40     IND           356      Asia        142.0  \n",
      "41     IND           356      Asia        142.0  \n",
      "42     IND           356      Asia        142.0  \n",
      "43     IND           356      Asia        142.0  \n",
      "44     IND           356      Asia        142.0  \n",
      "45     IND           356      Asia        142.0  \n",
      "46     IND           356      Asia        142.0  \n",
      "47     IND           356      Asia        142.0  \n",
      "48     IND           356      Asia        142.0  \n",
      "49     IND           356      Asia        142.0  \n"
     ]
    }
   ],
   "source": [
    "print(tweet_info[:50])"
   ]
  },
  {
   "cell_type": "code",
   "execution_count": 35,
   "id": "f93d1fcf",
   "metadata": {},
   "outputs": [
    {
     "name": "stdout",
     "output_type": "stream",
     "text": [
      "             iso_code  people_vaccinated_per_hundred continent\n",
      "location                                                      \n",
      "Afghanistan       AFG                           1.67      Asia\n",
      "Africa       OWID_AFR                           2.62       NaN\n",
      "Albania           ALB                          19.02    Europe\n",
      "Algeria           DZA                           5.70    Africa\n",
      "Andorra           AND                          50.04    Europe\n"
     ]
    }
   ],
   "source": [
    "\n",
    "vaax_info = vax_info.groupby('location').aggregate({'iso_code': 'max', 'people_vaccinated_per_hundred': 'max', \n",
    "                                           'continent': 'max'})\n",
    "print(vaax_info.head())"
   ]
  },
  {
   "cell_type": "code",
   "execution_count": 36,
   "id": "c127904c",
   "metadata": {},
   "outputs": [
    {
     "name": "stdout",
     "output_type": "stream",
     "text": [
      "                    id                  user_location  user_followers  \\\n",
      "0  1381551830270889984  Mumbai, Delhi, Kolkata, India             338   \n",
      "1  1366242037721223168                  Mumbai, India            7363   \n",
      "2  1381467315162603520                          India              30   \n",
      "3  1380777567112867840                          India         2088295   \n",
      "4  1384993345835966464                          India             454   \n",
      "\n",
      "   sentiment location name_x alpha-2_x alpha-3_x  country-code_x region_x  \\\n",
      "0          2    India  India        IN       IND             356     Asia   \n",
      "1          2    India  India        IN       IND             356     Asia   \n",
      "2          3    India  India        IN       IND             356     Asia   \n",
      "3          3    India  India        IN       IND             356     Asia   \n",
      "4          2    India  India        IN       IND             356     Asia   \n",
      "\n",
      "   region-code_x name_y alpha-2_y alpha-3_y  country-code_y region_y  \\\n",
      "0          142.0  India        IN       IND             356     Asia   \n",
      "1          142.0  India        IN       IND             356     Asia   \n",
      "2          142.0  India        IN       IND             356     Asia   \n",
      "3          142.0  India        IN       IND             356     Asia   \n",
      "4          142.0  India        IN       IND             356     Asia   \n",
      "\n",
      "   region-code_y iso_code  people_vaccinated_per_hundred continent  \n",
      "0          142.0      IND                          19.24      Asia  \n",
      "1          142.0      IND                          19.24      Asia  \n",
      "2          142.0      IND                          19.24      Asia  \n",
      "3          142.0      IND                          19.24      Asia  \n",
      "4          142.0      IND                          19.24      Asia  \n"
     ]
    }
   ],
   "source": [
    "tweet_vax =pd.merge(tweet_info, vaax_info, left_on='location', right_on=vaax_info.index, how=\"inner\")\n",
    "print(tweet_vax.head())"
   ]
  },
  {
   "cell_type": "code",
   "execution_count": 37,
   "id": "853927fe",
   "metadata": {},
   "outputs": [],
   "source": [
    "tweet_vax['sentiment_val'] = [categorizeNum(val) for val in tweet_vax['sentiment']]"
   ]
  },
  {
   "cell_type": "code",
   "execution_count": 23,
   "id": "d0f5d02a",
   "metadata": {},
   "outputs": [
    {
     "name": "stdout",
     "output_type": "stream",
     "text": [
      "0.6678832116788321\n"
     ]
    },
    {
     "data": {
      "image/png": "[encoded data removed]",
      "text/plain": [
       "<Figure size 432x288 with 2 Axes>"
      ]
     },
     "metadata": {
      "needs_background": "light"
     },
     "output_type": "display_data"
    }
   ],
   "source": [
    "from sklearn.linear_model import LogisticRegression\n",
    "from sklearn.metrics import accuracy_score\n",
    "from sklearn.metrics import plot_confusion_matrix\n",
    "import matplotlib.pyplot as plt # just to format confusion matrix\n",
    "\n",
    "# Write your code for question 4 here\n",
    "# and store your results in the correct variable names for full credit\n",
    "\n",
    "target = tweet_vax['sentiment_val']\n",
    "\n",
    "data = tweet_vax[['country-code', 'people_vaccinated_per_hundred', 'user_followers']]\n",
    "\n",
    "logistic_model = LogisticRegression()\n",
    "logistic_model.fit(X=data, y=target)\n",
    "\n",
    "tweet_vax['predicted_outcome'] = logistic_model.predict(data)\n",
    "\n",
    "q4_score = logistic_model.score(data, target)\n",
    "\n",
    "plot_confusion_matrix(logistic_model, data, target)\n",
    "\n",
    "print(q4_score)\n",
    "\n",
    "plt.grid(False)"
   ]
  },
  {
   "cell_type": "code",
   "execution_count": 64,
   "id": "305113c8",
   "metadata": {},
   "outputs": [
    {
     "name": "stdout",
     "output_type": "stream",
     "text": [
      "                      id                  user_location  user_followers  \\\n",
      "0    1381551830270889984  Mumbai, Delhi, Kolkata, India             338   \n",
      "1    1366242037721223168                  Mumbai, India            7363   \n",
      "4    1384993345835966464                          India             454   \n",
      "5    1384834144828477440               New Delhi, India            1314   \n",
      "6    1343559031462518784             Maharashtra, India           23069   \n",
      "..                   ...                            ...             ...   \n",
      "158  1366991657221021696                      Hong Kong           19028   \n",
      "170  1358637784836243456                       Zimbabwe             416   \n",
      "184  1339371452110233600                       Malaysia          732148   \n",
      "198  1377925756659982336               Lahore, Pakistan            7516   \n",
      "268  1359566899600891904                         Uganda             565   \n",
      "\n",
      "     sentiment   location     name_x alpha-2_x alpha-3_x  country-code_x  \\\n",
      "0            2      India      India        IN       IND             356   \n",
      "1            2      India      India        IN       IND             356   \n",
      "4            2      India      India        IN       IND             356   \n",
      "5            2      India      India        IN       IND             356   \n",
      "6            2      India      India        IN       IND             356   \n",
      "..         ...        ...        ...       ...       ...             ...   \n",
      "158          1  Hong Kong  Hong Kong        HK       HKG             344   \n",
      "170          1   Zimbabwe   Zimbabwe        ZW       ZWE             716   \n",
      "184          1   Malaysia   Malaysia        MY       MYS             458   \n",
      "198          1   Pakistan   Pakistan        PK       PAK             586   \n",
      "268          1     Uganda     Uganda        UG       UGA             800   \n",
      "\n",
      "    region_x  ...     name_y alpha-2_y alpha-3_y country-code_y  region_y  \\\n",
      "0       Asia  ...      India        IN       IND            356      Asia   \n",
      "1       Asia  ...      India        IN       IND            356      Asia   \n",
      "4       Asia  ...      India        IN       IND            356      Asia   \n",
      "5       Asia  ...      India        IN       IND            356      Asia   \n",
      "6       Asia  ...      India        IN       IND            356      Asia   \n",
      "..       ...  ...        ...       ...       ...            ...       ...   \n",
      "158     Asia  ...  Hong Kong        HK       HKG            344      Asia   \n",
      "170   Africa  ...   Zimbabwe        ZW       ZWE            716    Africa   \n",
      "184     Asia  ...   Malaysia        MY       MYS            458      Asia   \n",
      "198     Asia  ...   Pakistan        PK       PAK            586      Asia   \n",
      "268   Africa  ...     Uganda        UG       UGA            800    Africa   \n",
      "\n",
      "    region-code_y  iso_code people_vaccinated_per_hundred  continent  \\\n",
      "0           142.0       IND                         19.24       Asia   \n",
      "1           142.0       IND                         19.24       Asia   \n",
      "4           142.0       IND                         19.24       Asia   \n",
      "5           142.0       IND                         19.24       Asia   \n",
      "6           142.0       IND                         19.24       Asia   \n",
      "..            ...       ...                           ...        ...   \n",
      "158         142.0       HKG                         29.07       Asia   \n",
      "170           2.0       ZWE                          5.09     Africa   \n",
      "184         142.0       MYS                         16.88       Asia   \n",
      "198         142.0       PAK                          4.90       Asia   \n",
      "268           2.0       UGA                          1.87     Africa   \n",
      "\n",
      "    sentiment_val  \n",
      "0         neutral  \n",
      "1         neutral  \n",
      "4         neutral  \n",
      "5         neutral  \n",
      "6         neutral  \n",
      "..            ...  \n",
      "158      negative  \n",
      "170      negative  \n",
      "184      negative  \n",
      "198      negative  \n",
      "268      negative  \n",
      "\n",
      "[181 rows x 21 columns]\n"
     ]
    }
   ],
   "source": [
    "res_neu = tweet_vax[tweet_vax['sentiment_val'] == 'neutral'] \n",
    "res_pos = tweet_vax[tweet_vax['sentiment_val'] == 'positive'] \n",
    "res_neg = tweet_vax[tweet_vax['sentiment_val'] == 'negative'] \n",
    "rslt_df = pd.concat([res_neu[:90], pd.concat([res_pos, res_neg])])\n",
    "print(rslt_df)"
   ]
  },
  {
   "cell_type": "code",
   "execution_count": 71,
   "id": "dd9baf31",
   "metadata": {},
   "outputs": [
    {
     "name": "stdout",
     "output_type": "stream",
     "text": [
      "Model Score: 0.574585635359116\n"
     ]
    },
    {
     "data": {
      "image/png": "[encoded data removed]",
      "text/plain": [
       "<Figure size 432x288 with 2 Axes>"
      ]
     },
     "metadata": {
      "needs_background": "light"
     },
     "output_type": "display_data"
    }
   ],
   "source": [
    "\n",
    "target = rslt_df['sentiment_val']\n",
    "\n",
    "data = rslt_df[['people_vaccinated_per_hundred', 'user_followers', 'region-code_y']]\n",
    "\n",
    "logistic_model = LogisticRegression()\n",
    "logistic_model.fit(X=data, y=target)\n",
    "\n",
    "rslt_df['predicted_outcome'] = logistic_model.predict(data)\n",
    "\n",
    "q4_score = logistic_model.score(data, target)\n",
    "\n",
    "plot_confusion_matrix(logistic_model, data, target)\n",
    "\n",
    "print(\"Model Score:\", q4_score)\n",
    "\n",
    "plt.grid(False)"
   ]
  },
  {
   "cell_type": "code",
   "execution_count": 74,
   "id": "9429a734",
   "metadata": {},
   "outputs": [
    {
     "data": {
      "text/plain": [
       "<seaborn.axisgrid.FacetGrid at 0x7fac5db80220>"
      ]
     },
     "execution_count": 74,
     "metadata": {},
     "output_type": "execute_result"
    },
    {
     "data": {
      "image/png": "[encoded data removed]",
      "text/plain": [
       "<Figure size 3600x360 with 1 Axes>"
      ]
     },
     "metadata": {
      "needs_background": "light"
     },
     "output_type": "display_data"
    },
    {
     "data": {
      "image/png": "[encoded data removed]",
      "text/plain": [
       "<Figure size 3600x360 with 1 Axes>"
      ]
     },
     "metadata": {
      "needs_background": "light"
     },
     "output_type": "display_data"
    }
   ],
   "source": [
    "tvax = tweet_vax[['id', 'location', 'people_vaccinated_per_hundred', 'sentiment', 'region_y']]\n",
    "vaxandtweet = tvax.groupby('location').aggregate({'sentiment': 'mean', 'people_vaccinated_per_hundred': 'max'})\n",
    "sns.catplot(data=vaxandtweet, x=vaxandtweet.index, y='people_vaccinated_per_hundred', kind='bar', aspect=10)\n",
    "sns.catplot(data=vaxandtweet, x=vaxandtweet.index, y='sentiment', kind='bar', aspect=10)"
   ]
  },
  {
   "cell_type": "code",
   "execution_count": null,
   "id": "74a19716",
   "metadata": {},
   "outputs": [],
   "source": []
  }
 ],
 "metadata": {
  "kernelspec": {
   "display_name": "Python 3",
   "language": "python",
   "name": "python3"
  },
  "language_info": {
   "codemirror_mode": {
    "name": "ipython",
    "version": 3
   },
   "file_extension": ".py",
   "mimetype": "text/x-python",
   "name": "python",
   "nbconvert_exporter": "python",
   "pygments_lexer": "ipython3",
   "version": "3.8.8"
  }
 },
 "nbformat": 4,
 "nbformat_minor": 5
}
