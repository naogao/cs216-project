{
 "cells": [
  {
   "cell_type": "code",
   "execution_count": 1,
   "id": "a369725d",
   "metadata": {},
   "outputs": [],
   "source": [
    "import pandas as pd\n",
    "import seaborn as sns\n",
    "import numpy as np"
   ]
  },
  {
   "cell_type": "code",
   "execution_count": 2,
   "id": "4d8ee29f",
   "metadata": {},
   "outputs": [
    {
     "name": "stdout",
     "output_type": "stream",
     "text": [
      "  iso_code continent     location       date  total_cases  new_cases  \\\n",
      "0      AFG      Asia  Afghanistan 2020-02-24          1.0        1.0   \n",
      "1      AFG      Asia  Afghanistan 2020-02-25          1.0        0.0   \n",
      "2      AFG      Asia  Afghanistan 2020-02-26          1.0        0.0   \n",
      "3      AFG      Asia  Afghanistan 2020-02-27          1.0        0.0   \n",
      "4      AFG      Asia  Afghanistan 2020-02-28          1.0        0.0   \n",
      "\n",
      "   new_cases_smoothed  total_deaths  new_deaths  new_deaths_smoothed  ...  \\\n",
      "0                 NaN           NaN         NaN                  NaN  ...   \n",
      "1                 NaN           NaN         NaN                  NaN  ...   \n",
      "2                 NaN           NaN         NaN                  NaN  ...   \n",
      "3                 NaN           NaN         NaN                  NaN  ...   \n",
      "4                 NaN           NaN         NaN                  NaN  ...   \n",
      "\n",
      "   extreme_poverty  cardiovasc_death_rate  diabetes_prevalence  \\\n",
      "0              NaN                597.029                 9.59   \n",
      "1              NaN                597.029                 9.59   \n",
      "2              NaN                597.029                 9.59   \n",
      "3              NaN                597.029                 9.59   \n",
      "4              NaN                597.029                 9.59   \n",
      "\n",
      "   female_smokers  male_smokers  handwashing_facilities  \\\n",
      "0             NaN           NaN                  37.746   \n",
      "1             NaN           NaN                  37.746   \n",
      "2             NaN           NaN                  37.746   \n",
      "3             NaN           NaN                  37.746   \n",
      "4             NaN           NaN                  37.746   \n",
      "\n",
      "   hospital_beds_per_thousand  life_expectancy  human_development_index  \\\n",
      "0                         0.5            64.83                    0.511   \n",
      "1                         0.5            64.83                    0.511   \n",
      "2                         0.5            64.83                    0.511   \n",
      "3                         0.5            64.83                    0.511   \n",
      "4                         0.5            64.83                    0.511   \n",
      "\n",
      "   excess_mortality  \n",
      "0               NaN  \n",
      "1               NaN  \n",
      "2               NaN  \n",
      "3               NaN  \n",
      "4               NaN  \n",
      "\n",
      "[5 rows x 60 columns]              name alpha-2 alpha-3  country-code     iso_3166-2   region  \\\n",
      "0     Afghanistan      AF     AFG             4  ISO 3166-2:AF     Asia   \n",
      "1   Åland Islands      AX     ALA           248  ISO 3166-2:AX   Europe   \n",
      "2         Albania      AL     ALB             8  ISO 3166-2:AL   Europe   \n",
      "3         Algeria      DZ     DZA            12  ISO 3166-2:DZ   Africa   \n",
      "4  American Samoa      AS     ASM            16  ISO 3166-2:AS  Oceania   \n",
      "\n",
      "        sub-region intermediate-region  region-code  sub-region-code  \\\n",
      "0    Southern Asia                 NaN        142.0             34.0   \n",
      "1  Northern Europe                 NaN        150.0            154.0   \n",
      "2  Southern Europe                 NaN        150.0             39.0   \n",
      "3  Northern Africa                 NaN          2.0             15.0   \n",
      "4        Polynesia                 NaN          9.0             61.0   \n",
      "\n",
      "   intermediate-region-code  \n",
      "0                       NaN  \n",
      "1                       NaN  \n",
      "2                       NaN  \n",
      "3                       NaN  \n",
      "4                       NaN          tweet_id  sentiment                                         tweet_text  \\\n",
      "0  1.382896e+18          2  Pranam message for today manifested in Dhyan b...   \n",
      "1  1.362166e+18          3  Lab studies suggest #Pfizer, #Moderna vaccines...   \n",
      "2  1.351285e+18          1  Still want to take the #jab?\\n#PfizerBioNTech\\...   \n",
      "3  1.377729e+18          2                        Officially a #Moderna gay ?   \n",
      "4  1.382048e+18          2  Abusing #atmanirbhar Bharat as a political too...   \n",
      "\n",
      "                    id           user_name   user_location  \\\n",
      "0  1382896334886248448        ANJALI KALIA             NaN   \n",
      "1  1362165556091191296         Jeff Ostach  Wisconsin, USA   \n",
      "2  1351285090077323264  Signs Of The Times          Global   \n",
      "3  1377729426784411648             Richard   Kalamazoo, MI   \n",
      "4  1382047921160417280      Akash Karmakar             NaN   \n",
      "\n",
      "                                    user_description         user_created  \\\n",
      "0  Trustee Pranam, Humanity Nature Bharat Culture...  2009-09-23 07:36:45   \n",
      "1  #Writer, #Politics/#Sports, #Badgers #Packers ...  2009-03-30 16:50:40   \n",
      "2  Independent commentary & analysis on world eve...  2009-02-15 19:24:21   \n",
      "3  Don’t shrink yourself to be digestible, let th...  2015-08-06 14:56:46   \n",
      "4                                                NaN  2014-05-27 17:52:10   \n",
      "\n",
      "   user_followers  user_friends  user_favourites  user_verified  \\\n",
      "0             660           942            28442          False   \n",
      "1            3744          4702            65586          False   \n",
      "2            8807          1094            10100          False   \n",
      "3            4491          1223            70158          False   \n",
      "4              69           209              121          False   \n",
      "\n",
      "                  date                                               text  \\\n",
      "0  2021-04-16 03:19:13  Pranam message for today manifested in Dhyan b...   \n",
      "1  2021-02-17 22:22:31  Lab studies suggest #Pfizer, #Moderna vaccines...   \n",
      "2  2021-01-18 21:47:25  Still want to take the #jab?\\n#PfizerBioNTech\\...   \n",
      "3  2021-04-01 21:07:46                        Officially a #Moderna gay 💉   \n",
      "4  2021-04-13 19:07:56  Abusing #atmanirbhar Bharat as a political too...   \n",
      "\n",
      "                                            hashtags              source  \\\n",
      "0  ['truth', 'love', 'karm', 'light', 'nature', '...  Twitter for iPhone   \n",
      "1        ['Pfizer', 'Moderna', 'coronavirusvariant']  Twitter for iPhone   \n",
      "2           ['jab', 'PfizerBioNTech', 'sideeffects']     Twitter Web App   \n",
      "3                                        ['Moderna']  Twitter for iPhone   \n",
      "4                                    ['atmanirbhar']  Twitter for iPhone   \n",
      "\n",
      "   retweets  favorites  is_retweet  \n",
      "0         1          6       False  \n",
      "1         1          2       False  \n",
      "2         6          3       False  \n",
      "3         0         16       False  \n",
      "4         0          1       False  \n"
     ]
    }
   ],
   "source": [
    "vaccinations = pd.read_csv(\"owid-covid-data.csv\")\n",
    "vaccinations['date'] = pd.to_datetime(vaccinations['date'], format='%Y-%m-%d')\n",
    "\n",
    "regions = pd.read_csv(\"all2.csv\")\n",
    "\n",
    "tweets = pd.read_csv(\"vaccination_all_tweets.csv\")\n",
    "sentiments = pd.read_csv(\"covid-19_vaccine_tweets_with_sentiment.csv\")\n",
    "all_tweet_data = pd.merge(sentiments, tweets, left_on = 'tweet_id', right_on = 'id')\n",
    "all_tweet_data.rename(columns={'label': 'sentiment'}, inplace=True)\n",
    "\n",
    "print(vaccinations.head(), regions.head(), all_tweet_data.head())"
   ]
  },
  {
   "cell_type": "code",
   "execution_count": 3,
   "id": "3836d688",
   "metadata": {},
   "outputs": [],
   "source": [
    "vax_info = vaccinations[['iso_code', 'location', 'people_vaccinated_per_hundred', 'continent']]\n",
    "region_info = regions[['name', 'alpha-2', 'alpha-3', 'country-code', 'region', 'region-code']]\n",
    "tweet_info = all_tweet_data[['id', 'user_location', 'user_followers', 'sentiment']]\n"
   ]
  },
  {
   "cell_type": "code",
   "execution_count": 4,
   "id": "b8784a1b",
   "metadata": {},
   "outputs": [],
   "source": [
    "vax_n = region_info['name']\n",
    "vax_a2 = region_info['alpha-2']\n",
    "vax_a3 = region_info['alpha-3']\n",
    "vax_r = region_info['region']\n",
    "def fixlocation(loc):\n",
    "    loc = str(loc).split(\", \")\n",
    "    hit = False\n",
    "    for i in range(len(vax_n)):\n",
    "        for l in loc:\n",
    "            if l == str(vax_n[i]):\n",
    "                return str(vax_n[i])\n",
    "            elif l == str(vax_a2[i]):\n",
    "                return str(vax_n[i])\n",
    "            elif l == str(vax_a3[i]):\n",
    "                return str(vax_n[i])\n",
    "            elif l == str(vax_r[i]):\n",
    "                return str(vax_n[i])\n",
    "    return loc[-1]\n",
    "\n",
    "def categorizeNum(val):\n",
    "    if val == 1:\n",
    "        return \"negative\"\n",
    "    elif val == 2:\n",
    "        return \"neutral\"\n",
    "    elif val > 2:\n",
    "        return \"positive\"\n",
    "    else:\n",
    "        return \"unsure\""
   ]
  },
  {
   "cell_type": "code",
   "execution_count": 5,
   "id": "226e74ad",
   "metadata": {},
   "outputs": [],
   "source": [
    "tweet_info = tweet_info.dropna(how='any',axis=0) \n",
    "tweet_info['location'] = [fixlocation(loc) for loc in tweet_info['user_location']]\n",
    "tweet_info = pd.merge(tweet_info, region_info, left_on='location', right_on='name', how='inner')"
   ]
  },
  {
   "cell_type": "code",
   "execution_count": 6,
   "id": "86fc7ac1",
   "metadata": {},
   "outputs": [
    {
     "name": "stdout",
     "output_type": "stream",
     "text": [
      "                     id                  user_location  user_followers  \\\n",
      "0   1362165556091191296                 Wisconsin, USA            3744   \n",
      "1   1384834947110903808            North Carolina, USA             534   \n",
      "2   1359713613087469568                Des Moines, USA             269   \n",
      "3   1355007738003255296                 Minnesota, USA              30   \n",
      "4   1353930694267817984                    Oregon, USA              23   \n",
      "5   1381742837474193408                  Maryland, USA             258   \n",
      "6   1346571604088729600                            USA            1283   \n",
      "7   1366427896525578240                      Ohio, USA            1832   \n",
      "8   1367563642418458624            Virgin Islands, USA              16   \n",
      "9   1368941492593647616                  New York, USA             456   \n",
      "10  1383120250888081408                            USA             345   \n",
      "11  1384962498936426496                   Arizona, USA             980   \n",
      "12  1380254488808673280                      Iowa, USA           23856   \n",
      "13  1349765020914106368                 Louisiana, USA              63   \n",
      "14  1381977050135822336           Hudson, Florida, USA             390   \n",
      "15  1382809632599642112                 Tennessee, USA               7   \n",
      "16  1374890686667968512                  Colorado, USA             369   \n",
      "17  1346887419468132352                  Michigan, USA               3   \n",
      "18  1381612940843966464             Massachusetts, USA             109   \n",
      "19  1377724259359993856                  New York, USA             418   \n",
      "20  1381747800480886784           Hudson, Florida, USA             390   \n",
      "21  1382509441333874688                California, USA             253   \n",
      "22  1364517334166085632                California, USA            4963   \n",
      "23  1380504234639171584             Massachusetts, USA             285   \n",
      "24  1375563205888593920                      Ohio, USA             729   \n",
      "25  1360936525119123456                California, USA             529   \n",
      "26  1358490982233165824                   Arizona, USA              47   \n",
      "27  1374191509583532032                   Arizona, USA             208   \n",
      "28  1346853360360632320                  Michigan, USA               3   \n",
      "29  1370492408237068288             Massachusetts, USA             669   \n",
      "30  1379940012637220864                            USA              51   \n",
      "31  1367042952527302656               Connecticut, USA            1225   \n",
      "32  1381551830270889984  Mumbai, Delhi, Kolkata, India             338   \n",
      "33  1366242037721223168                  Mumbai, India            7363   \n",
      "34  1381467315162603520                          India              30   \n",
      "35  1380777567112867840                          India         2088295   \n",
      "36  1384993345835966464                          India             454   \n",
      "37  1384834144828477440               New Delhi, India            1314   \n",
      "38  1343559031462518784             Maharashtra, India           23069   \n",
      "39  1366436791742439424                          India         1544318   \n",
      "40  1384788012983197696                          India               9   \n",
      "41  1369920243884199936                 Chennai, India             326   \n",
      "42  1366272420684828672                 Bankura, India             298   \n",
      "43  1379985479282552832                          India            1091   \n",
      "44  1367377242049814528                 Chennai, India            7450   \n",
      "45  1367364474701705216                          India            2285   \n",
      "46  1379697213245333504                          India            9604   \n",
      "47  1367146976064663552                 Chennai, India           15559   \n",
      "48  1383067006912524288              Coimbatore, India              74   \n",
      "49  1385227865159962624                  Mysore, India              85   \n",
      "\n",
      "    sentiment                  location                      name alpha-2  \\\n",
      "0           3  United States of America  United States of America      US   \n",
      "1           2  United States of America  United States of America      US   \n",
      "2           3  United States of America  United States of America      US   \n",
      "3           2  United States of America  United States of America      US   \n",
      "4           2  United States of America  United States of America      US   \n",
      "5           2  United States of America  United States of America      US   \n",
      "6           2  United States of America  United States of America      US   \n",
      "7           2  United States of America  United States of America      US   \n",
      "8           2  United States of America  United States of America      US   \n",
      "9           2  United States of America  United States of America      US   \n",
      "10          3  United States of America  United States of America      US   \n",
      "11          3  United States of America  United States of America      US   \n",
      "12          2  United States of America  United States of America      US   \n",
      "13          2  United States of America  United States of America      US   \n",
      "14          3  United States of America  United States of America      US   \n",
      "15          2  United States of America  United States of America      US   \n",
      "16          2  United States of America  United States of America      US   \n",
      "17          2  United States of America  United States of America      US   \n",
      "18          2  United States of America  United States of America      US   \n",
      "19          3  United States of America  United States of America      US   \n",
      "20          2  United States of America  United States of America      US   \n",
      "21          1  United States of America  United States of America      US   \n",
      "22          1  United States of America  United States of America      US   \n",
      "23          3  United States of America  United States of America      US   \n",
      "24          3  United States of America  United States of America      US   \n",
      "25          3  United States of America  United States of America      US   \n",
      "26          3  United States of America  United States of America      US   \n",
      "27          3  United States of America  United States of America      US   \n",
      "28          2  United States of America  United States of America      US   \n",
      "29          2  United States of America  United States of America      US   \n",
      "30          2  United States of America  United States of America      US   \n",
      "31          3  United States of America  United States of America      US   \n",
      "32          2                     India                     India      IN   \n",
      "33          2                     India                     India      IN   \n",
      "34          3                     India                     India      IN   \n",
      "35          3                     India                     India      IN   \n",
      "36          2                     India                     India      IN   \n",
      "37          2                     India                     India      IN   \n",
      "38          2                     India                     India      IN   \n",
      "39          2                     India                     India      IN   \n",
      "40          3                     India                     India      IN   \n",
      "41          2                     India                     India      IN   \n",
      "42          2                     India                     India      IN   \n",
      "43          2                     India                     India      IN   \n",
      "44          2                     India                     India      IN   \n",
      "45          2                     India                     India      IN   \n",
      "46          2                     India                     India      IN   \n",
      "47          3                     India                     India      IN   \n",
      "48          2                     India                     India      IN   \n",
      "49          2                     India                     India      IN   \n",
      "\n",
      "   alpha-3  country-code    region  region-code  \n",
      "0      USA           840  Americas         19.0  \n",
      "1      USA           840  Americas         19.0  \n",
      "2      USA           840  Americas         19.0  \n",
      "3      USA           840  Americas         19.0  \n",
      "4      USA           840  Americas         19.0  \n",
      "5      USA           840  Americas         19.0  \n",
      "6      USA           840  Americas         19.0  \n",
      "7      USA           840  Americas         19.0  \n",
      "8      USA           840  Americas         19.0  \n",
      "9      USA           840  Americas         19.0  \n",
      "10     USA           840  Americas         19.0  \n",
      "11     USA           840  Americas         19.0  \n",
      "12     USA           840  Americas         19.0  \n",
      "13     USA           840  Americas         19.0  \n",
      "14     USA           840  Americas         19.0  \n",
      "15     USA           840  Americas         19.0  \n",
      "16     USA           840  Americas         19.0  \n",
      "17     USA           840  Americas         19.0  \n",
      "18     USA           840  Americas         19.0  \n",
      "19     USA           840  Americas         19.0  \n",
      "20     USA           840  Americas         19.0  \n",
      "21     USA           840  Americas         19.0  \n",
      "22     USA           840  Americas         19.0  \n",
      "23     USA           840  Americas         19.0  \n",
      "24     USA           840  Americas         19.0  \n",
      "25     USA           840  Americas         19.0  \n",
      "26     USA           840  Americas         19.0  \n",
      "27     USA           840  Americas         19.0  \n",
      "28     USA           840  Americas         19.0  \n",
      "29     USA           840  Americas         19.0  \n",
      "30     USA           840  Americas         19.0  \n",
      "31     USA           840  Americas         19.0  \n",
      "32     IND           356      Asia        142.0  \n",
      "33     IND           356      Asia        142.0  \n",
      "34     IND           356      Asia        142.0  \n",
      "35     IND           356      Asia        142.0  \n",
      "36     IND           356      Asia        142.0  \n",
      "37     IND           356      Asia        142.0  \n",
      "38     IND           356      Asia        142.0  \n",
      "39     IND           356      Asia        142.0  \n",
      "40     IND           356      Asia        142.0  \n",
      "41     IND           356      Asia        142.0  \n",
      "42     IND           356      Asia        142.0  \n",
      "43     IND           356      Asia        142.0  \n",
      "44     IND           356      Asia        142.0  \n",
      "45     IND           356      Asia        142.0  \n",
      "46     IND           356      Asia        142.0  \n",
      "47     IND           356      Asia        142.0  \n",
      "48     IND           356      Asia        142.0  \n",
      "49     IND           356      Asia        142.0  \n"
     ]
    }
   ],
   "source": [
    "print(tweet_info[:50])"
   ]
  },
  {
   "cell_type": "code",
   "execution_count": 7,
   "id": "c917b949",
   "metadata": {},
   "outputs": [
    {
     "name": "stdout",
     "output_type": "stream",
     "text": [
      "             iso_code  people_vaccinated_per_hundred continent\n",
      "location                                                      \n",
      "Afghanistan       AFG                           1.67      Asia\n",
      "Africa       OWID_AFR                           2.62       NaN\n",
      "Albania           ALB                          19.02    Europe\n",
      "Algeria           DZA                           5.70    Africa\n",
      "Andorra           AND                          50.04    Europe\n"
     ]
    }
   ],
   "source": [
    "\n",
    "vaax_info = vax_info.groupby('location').aggregate({'iso_code': 'max', 'people_vaccinated_per_hundred': 'max', \n",
    "                                           'continent': 'max'})\n",
    "print(vaax_info.head())"
   ]
  },
  {
   "cell_type": "code",
   "execution_count": 8,
   "id": "e7dc8f3c",
   "metadata": {},
   "outputs": [
    {
     "name": "stdout",
     "output_type": "stream",
     "text": [
      "                    id                  user_location  user_followers  \\\n",
      "0  1381551830270889984  Mumbai, Delhi, Kolkata, India             338   \n",
      "1  1366242037721223168                  Mumbai, India            7363   \n",
      "2  1381467315162603520                          India              30   \n",
      "3  1380777567112867840                          India         2088295   \n",
      "4  1384993345835966464                          India             454   \n",
      "\n",
      "   sentiment location   name alpha-2 alpha-3  country-code region  \\\n",
      "0          2    India  India      IN     IND           356   Asia   \n",
      "1          2    India  India      IN     IND           356   Asia   \n",
      "2          3    India  India      IN     IND           356   Asia   \n",
      "3          3    India  India      IN     IND           356   Asia   \n",
      "4          2    India  India      IN     IND           356   Asia   \n",
      "\n",
      "   region-code iso_code  people_vaccinated_per_hundred continent  \n",
      "0        142.0      IND                          19.24      Asia  \n",
      "1        142.0      IND                          19.24      Asia  \n",
      "2        142.0      IND                          19.24      Asia  \n",
      "3        142.0      IND                          19.24      Asia  \n",
      "4        142.0      IND                          19.24      Asia  \n"
     ]
    }
   ],
   "source": [
    "tweet_vax =pd.merge(tweet_info, vaax_info, left_on='location', right_on=vaax_info.index, how=\"inner\")\n",
    "print(tweet_vax.head())"
   ]
  },
  {
   "cell_type": "code",
   "execution_count": 9,
   "id": "583ff6a7",
   "metadata": {},
   "outputs": [],
   "source": [
    "tweet_vax['sentiment_val'] = [categorizeNum(val) for val in tweet_vax['sentiment']]"
   ]
  },
  {
   "cell_type": "code",
   "execution_count": 10,
   "id": "86af392c",
   "metadata": {},
   "outputs": [
    {
     "name": "stdout",
     "output_type": "stream",
     "text": [
      "0.6666666666666666\n"
     ]
    },
    {
     "data": {
      "image/png": "[encoded data removed]",
      "text/plain": [
       "<Figure size 432x288 with 2 Axes>"
      ]
     },
     "metadata": {
      "needs_background": "light"
     },
     "output_type": "display_data"
    }
   ],
   "source": [
    "from sklearn.linear_model import LogisticRegression\n",
    "from sklearn.metrics import accuracy_score\n",
    "from sklearn.metrics import plot_confusion_matrix\n",
    "import matplotlib.pyplot as plt # just to format confusion matrix\n",
    "\n",
    "# Write your code for question 4 here\n",
    "# and store your results in the correct variable names for full credit\n",
    "\n",
    "target = tweet_vax['sentiment_val']\n",
    "\n",
    "data = tweet_vax[['country-code', 'people_vaccinated_per_hundred', 'user_followers']]\n",
    "\n",
    "logistic_model = LogisticRegression()\n",
    "logistic_model.fit(X=data, y=target)\n",
    "\n",
    "tweet_vax['predicted_outcome'] = logistic_model.predict(data)\n",
    "\n",
    "q4_score = logistic_model.score(data, target)\n",
    "\n",
    "plot_confusion_matrix(logistic_model, data, target)\n",
    "\n",
    "print(q4_score)\n",
    "\n",
    "plt.grid(False)"
   ]
  },
  {
   "cell_type": "code",
   "execution_count": 11,
   "id": "a44d571e",
   "metadata": {},
   "outputs": [
    {
     "name": "stdout",
     "output_type": "stream",
     "text": [
      "                      id                  user_location  user_followers  \\\n",
      "0    1381551830270889984  Mumbai, Delhi, Kolkata, India             338   \n",
      "1    1366242037721223168                  Mumbai, India            7363   \n",
      "4    1384993345835966464                          India             454   \n",
      "5    1384834144828477440               New Delhi, India            1314   \n",
      "6    1343559031462518784             Maharashtra, India           23069   \n",
      "..                   ...                            ...             ...   \n",
      "157  1366991657221021696                      Hong Kong           19028   \n",
      "169  1358637784836243456                       Zimbabwe             416   \n",
      "183  1339371452110233600                       Malaysia          732148   \n",
      "197  1377925756659982336               Lahore, Pakistan            7516   \n",
      "267  1359566899600891904                         Uganda             565   \n",
      "\n",
      "     sentiment   location       name alpha-2 alpha-3  country-code  region  \\\n",
      "0            2      India      India      IN     IND           356    Asia   \n",
      "1            2      India      India      IN     IND           356    Asia   \n",
      "4            2      India      India      IN     IND           356    Asia   \n",
      "5            2      India      India      IN     IND           356    Asia   \n",
      "6            2      India      India      IN     IND           356    Asia   \n",
      "..         ...        ...        ...     ...     ...           ...     ...   \n",
      "157          1  Hong Kong  Hong Kong      HK     HKG           344    Asia   \n",
      "169          1   Zimbabwe   Zimbabwe      ZW     ZWE           716  Africa   \n",
      "183          1   Malaysia   Malaysia      MY     MYS           458    Asia   \n",
      "197          1   Pakistan   Pakistan      PK     PAK           586    Asia   \n",
      "267          1     Uganda     Uganda      UG     UGA           800  Africa   \n",
      "\n",
      "     region-code iso_code  people_vaccinated_per_hundred continent  \\\n",
      "0          142.0      IND                          19.24      Asia   \n",
      "1          142.0      IND                          19.24      Asia   \n",
      "4          142.0      IND                          19.24      Asia   \n",
      "5          142.0      IND                          19.24      Asia   \n",
      "6          142.0      IND                          19.24      Asia   \n",
      "..           ...      ...                            ...       ...   \n",
      "157        142.0      HKG                          29.07      Asia   \n",
      "169          2.0      ZWE                           5.09    Africa   \n",
      "183        142.0      MYS                          16.88      Asia   \n",
      "197        142.0      PAK                           4.90      Asia   \n",
      "267          2.0      UGA                           1.87    Africa   \n",
      "\n",
      "    sentiment_val predicted_outcome  \n",
      "0         neutral           neutral  \n",
      "1         neutral           neutral  \n",
      "4         neutral           neutral  \n",
      "5         neutral           neutral  \n",
      "6         neutral           neutral  \n",
      "..            ...               ...  \n",
      "157      negative           neutral  \n",
      "169      negative           neutral  \n",
      "183      negative           neutral  \n",
      "197      negative           neutral  \n",
      "267      negative           neutral  \n",
      "\n",
      "[181 rows x 16 columns]\n"
     ]
    }
   ],
   "source": [
    "res_neu = tweet_vax[tweet_vax['sentiment_val'] == 'neutral'] \n",
    "res_pos = tweet_vax[tweet_vax['sentiment_val'] == 'positive'] \n",
    "res_neg = tweet_vax[tweet_vax['sentiment_val'] == 'negative'] \n",
    "rslt_df = pd.concat([res_neu[:90], pd.concat([res_pos, res_neg])])\n",
    "print(rslt_df)"
   ]
  },
  {
   "cell_type": "code",
   "execution_count": 13,
   "id": "f0c181db",
   "metadata": {},
   "outputs": [
    {
     "name": "stdout",
     "output_type": "stream",
     "text": [
      "Model Score: 0.569060773480663\n"
     ]
    },
    {
     "data": {
      "image/png": "[encoded data removed]",
      "text/plain": [
       "<Figure size 432x288 with 2 Axes>"
      ]
     },
     "metadata": {
      "needs_background": "light"
     },
     "output_type": "display_data"
    }
   ],
   "source": [
    "\n",
    "target = rslt_df['sentiment_val']\n",
    "\n",
    "data = rslt_df[['people_vaccinated_per_hundred', 'user_followers', 'region-code']]\n",
    "\n",
    "logistic_model = LogisticRegression()\n",
    "logistic_model.fit(X=data, y=target)\n",
    "\n",
    "rslt_df['predicted_outcome'] = logistic_model.predict(data)\n",
    "\n",
    "q4_score = logistic_model.score(data, target)\n",
    "\n",
    "plot_confusion_matrix(logistic_model, data, target)\n",
    "\n",
    "print(\"Model Score:\", q4_score)\n",
    "\n",
    "plt.grid(False)"
   ]
  },
  {
   "cell_type": "code",
   "execution_count": 14,
   "id": "23db16c0",
   "metadata": {},
   "outputs": [
    {
     "ename": "ValueError",
     "evalue": "The truth value of an array with more than one element is ambiguous. Use a.any() or a.all()",
     "output_type": "error",
     "traceback": [
      "\u001b[0;31m---------------------------------------------------------------------------\u001b[0m",
      "\u001b[0;31mValueError\u001b[0m                                Traceback (most recent call last)",
      "\u001b[0;32m/tmp/ipykernel_597/460986209.py\u001b[0m in \u001b[0;36m<module>\u001b[0;34m\u001b[0m\n\u001b[1;32m      1\u001b[0m \u001b[0mtvax\u001b[0m \u001b[0;34m=\u001b[0m \u001b[0mtweet_vax\u001b[0m\u001b[0;34m[\u001b[0m\u001b[0;34m[\u001b[0m\u001b[0;34m'id'\u001b[0m\u001b[0;34m,\u001b[0m \u001b[0;34m'location'\u001b[0m\u001b[0;34m,\u001b[0m \u001b[0;34m'people_vaccinated_per_hundred'\u001b[0m\u001b[0;34m,\u001b[0m \u001b[0;34m'sentiment'\u001b[0m\u001b[0;34m,\u001b[0m \u001b[0;34m'region'\u001b[0m\u001b[0;34m]\u001b[0m\u001b[0;34m]\u001b[0m\u001b[0;34m\u001b[0m\u001b[0;34m\u001b[0m\u001b[0m\n\u001b[1;32m      2\u001b[0m \u001b[0mvaxandtweet\u001b[0m \u001b[0;34m=\u001b[0m \u001b[0mtvax\u001b[0m\u001b[0;34m.\u001b[0m\u001b[0mgroupby\u001b[0m\u001b[0;34m(\u001b[0m\u001b[0;34m'location'\u001b[0m\u001b[0;34m)\u001b[0m\u001b[0;34m.\u001b[0m\u001b[0maggregate\u001b[0m\u001b[0;34m(\u001b[0m\u001b[0;34m{\u001b[0m\u001b[0;34m'sentiment'\u001b[0m\u001b[0;34m:\u001b[0m \u001b[0;34m'mean'\u001b[0m\u001b[0;34m,\u001b[0m \u001b[0;34m'people_vaccinated_per_hundred'\u001b[0m\u001b[0;34m:\u001b[0m \u001b[0;34m'max'\u001b[0m\u001b[0;34m}\u001b[0m\u001b[0;34m)\u001b[0m\u001b[0;34m\u001b[0m\u001b[0;34m\u001b[0m\u001b[0m\n\u001b[0;32m----> 3\u001b[0;31m \u001b[0msns\u001b[0m\u001b[0;34m.\u001b[0m\u001b[0mcatplot\u001b[0m\u001b[0;34m(\u001b[0m\u001b[0mdata\u001b[0m\u001b[0;34m=\u001b[0m\u001b[0mvaxandtweet\u001b[0m\u001b[0;34m,\u001b[0m \u001b[0mx\u001b[0m\u001b[0;34m=\u001b[0m\u001b[0mvaxandtweet\u001b[0m\u001b[0;34m.\u001b[0m\u001b[0mindex\u001b[0m\u001b[0;34m,\u001b[0m \u001b[0my\u001b[0m\u001b[0;34m=\u001b[0m\u001b[0;34m'people_vaccinated_per_hundred'\u001b[0m\u001b[0;34m,\u001b[0m \u001b[0mkind\u001b[0m\u001b[0;34m=\u001b[0m\u001b[0;34m'bar'\u001b[0m\u001b[0;34m,\u001b[0m \u001b[0maspect\u001b[0m\u001b[0;34m=\u001b[0m\u001b[0;36m10\u001b[0m\u001b[0;34m)\u001b[0m\u001b[0;34m\u001b[0m\u001b[0;34m\u001b[0m\u001b[0m\n\u001b[0m\u001b[1;32m      4\u001b[0m \u001b[0msns\u001b[0m\u001b[0;34m.\u001b[0m\u001b[0mcatplot\u001b[0m\u001b[0;34m(\u001b[0m\u001b[0mdata\u001b[0m\u001b[0;34m=\u001b[0m\u001b[0mvaxandtweet\u001b[0m\u001b[0;34m,\u001b[0m \u001b[0mx\u001b[0m\u001b[0;34m=\u001b[0m\u001b[0mvaxandtweet\u001b[0m\u001b[0;34m.\u001b[0m\u001b[0mindex\u001b[0m\u001b[0;34m,\u001b[0m \u001b[0my\u001b[0m\u001b[0;34m=\u001b[0m\u001b[0;34m'sentiment'\u001b[0m\u001b[0;34m,\u001b[0m \u001b[0mkind\u001b[0m\u001b[0;34m=\u001b[0m\u001b[0;34m'bar'\u001b[0m\u001b[0;34m,\u001b[0m \u001b[0maspect\u001b[0m\u001b[0;34m=\u001b[0m\u001b[0;36m10\u001b[0m\u001b[0;34m)\u001b[0m\u001b[0;34m\u001b[0m\u001b[0;34m\u001b[0m\u001b[0m\n",
      "\u001b[0;32m/opt/conda/lib/python3.7/site-packages/seaborn/_decorators.py\u001b[0m in \u001b[0;36minner_f\u001b[0;34m(*args, **kwargs)\u001b[0m\n\u001b[1;32m     44\u001b[0m             )\n\u001b[1;32m     45\u001b[0m         \u001b[0mkwargs\u001b[0m\u001b[0;34m.\u001b[0m\u001b[0mupdate\u001b[0m\u001b[0;34m(\u001b[0m\u001b[0;34m{\u001b[0m\u001b[0mk\u001b[0m\u001b[0;34m:\u001b[0m \u001b[0marg\u001b[0m \u001b[0;32mfor\u001b[0m \u001b[0mk\u001b[0m\u001b[0;34m,\u001b[0m \u001b[0marg\u001b[0m \u001b[0;32min\u001b[0m \u001b[0mzip\u001b[0m\u001b[0;34m(\u001b[0m\u001b[0msig\u001b[0m\u001b[0;34m.\u001b[0m\u001b[0mparameters\u001b[0m\u001b[0;34m,\u001b[0m \u001b[0margs\u001b[0m\u001b[0;34m)\u001b[0m\u001b[0;34m}\u001b[0m\u001b[0;34m)\u001b[0m\u001b[0;34m\u001b[0m\u001b[0;34m\u001b[0m\u001b[0m\n\u001b[0;32m---> 46\u001b[0;31m         \u001b[0;32mreturn\u001b[0m \u001b[0mf\u001b[0m\u001b[0;34m(\u001b[0m\u001b[0;34m**\u001b[0m\u001b[0mkwargs\u001b[0m\u001b[0;34m)\u001b[0m\u001b[0;34m\u001b[0m\u001b[0;34m\u001b[0m\u001b[0m\n\u001b[0m\u001b[1;32m     47\u001b[0m     \u001b[0;32mreturn\u001b[0m \u001b[0minner_f\u001b[0m\u001b[0;34m\u001b[0m\u001b[0;34m\u001b[0m\u001b[0m\n\u001b[1;32m     48\u001b[0m \u001b[0;34m\u001b[0m\u001b[0m\n",
      "\u001b[0;32m/opt/conda/lib/python3.7/site-packages/seaborn/categorical.py\u001b[0m in \u001b[0;36mcatplot\u001b[0;34m(x, y, hue, data, row, col, col_wrap, estimator, ci, n_boot, units, seed, order, hue_order, row_order, col_order, kind, height, aspect, orient, color, palette, legend, legend_out, sharex, sharey, margin_titles, facet_kws, **kwargs)\u001b[0m\n\u001b[1;32m   3845\u001b[0m \u001b[0;34m\u001b[0m\u001b[0m\n\u001b[1;32m   3846\u001b[0m     \u001b[0;31m# Draw the plot onto the facets\u001b[0m\u001b[0;34m\u001b[0m\u001b[0;34m\u001b[0m\u001b[0;34m\u001b[0m\u001b[0m\n\u001b[0;32m-> 3847\u001b[0;31m     \u001b[0mg\u001b[0m\u001b[0;34m.\u001b[0m\u001b[0mmap_dataframe\u001b[0m\u001b[0;34m(\u001b[0m\u001b[0mplot_func\u001b[0m\u001b[0;34m,\u001b[0m \u001b[0mx\u001b[0m\u001b[0;34m=\u001b[0m\u001b[0mx\u001b[0m\u001b[0;34m,\u001b[0m \u001b[0my\u001b[0m\u001b[0;34m=\u001b[0m\u001b[0my\u001b[0m\u001b[0;34m,\u001b[0m \u001b[0mhue\u001b[0m\u001b[0;34m=\u001b[0m\u001b[0mhue\u001b[0m\u001b[0;34m,\u001b[0m \u001b[0;34m**\u001b[0m\u001b[0mplot_kws\u001b[0m\u001b[0;34m)\u001b[0m\u001b[0;34m\u001b[0m\u001b[0;34m\u001b[0m\u001b[0m\n\u001b[0m\u001b[1;32m   3848\u001b[0m \u001b[0;34m\u001b[0m\u001b[0m\n\u001b[1;32m   3849\u001b[0m     \u001b[0;32mif\u001b[0m \u001b[0mp\u001b[0m\u001b[0;34m.\u001b[0m\u001b[0morient\u001b[0m \u001b[0;34m==\u001b[0m \u001b[0;34m\"h\"\u001b[0m\u001b[0;34m:\u001b[0m\u001b[0;34m\u001b[0m\u001b[0;34m\u001b[0m\u001b[0m\n",
      "\u001b[0;32m/opt/conda/lib/python3.7/site-packages/seaborn/axisgrid.py\u001b[0m in \u001b[0;36mmap_dataframe\u001b[0;34m(self, func, *args, **kwargs)\u001b[0m\n\u001b[1;32m    782\u001b[0m         \u001b[0;32mfor\u001b[0m \u001b[0mi\u001b[0m\u001b[0;34m,\u001b[0m \u001b[0mval\u001b[0m \u001b[0;32min\u001b[0m \u001b[0menumerate\u001b[0m\u001b[0;34m(\u001b[0m\u001b[0margs\u001b[0m\u001b[0;34m[\u001b[0m\u001b[0;34m:\u001b[0m\u001b[0;36m2\u001b[0m\u001b[0;34m]\u001b[0m\u001b[0;34m)\u001b[0m\u001b[0;34m:\u001b[0m\u001b[0;34m\u001b[0m\u001b[0;34m\u001b[0m\u001b[0m\n\u001b[1;32m    783\u001b[0m             \u001b[0maxis_labels\u001b[0m\u001b[0;34m[\u001b[0m\u001b[0mi\u001b[0m\u001b[0;34m]\u001b[0m \u001b[0;34m=\u001b[0m \u001b[0mval\u001b[0m\u001b[0;34m\u001b[0m\u001b[0;34m\u001b[0m\u001b[0m\n\u001b[0;32m--> 784\u001b[0;31m         \u001b[0mself\u001b[0m\u001b[0;34m.\u001b[0m\u001b[0m_finalize_grid\u001b[0m\u001b[0;34m(\u001b[0m\u001b[0maxis_labels\u001b[0m\u001b[0;34m)\u001b[0m\u001b[0;34m\u001b[0m\u001b[0;34m\u001b[0m\u001b[0m\n\u001b[0m\u001b[1;32m    785\u001b[0m \u001b[0;34m\u001b[0m\u001b[0m\n\u001b[1;32m    786\u001b[0m         \u001b[0;32mreturn\u001b[0m \u001b[0mself\u001b[0m\u001b[0;34m\u001b[0m\u001b[0;34m\u001b[0m\u001b[0m\n",
      "\u001b[0;32m/opt/conda/lib/python3.7/site-packages/seaborn/axisgrid.py\u001b[0m in \u001b[0;36m_finalize_grid\u001b[0;34m(self, axlabels)\u001b[0m\n\u001b[1;32m    811\u001b[0m     \u001b[0;32mdef\u001b[0m \u001b[0m_finalize_grid\u001b[0m\u001b[0;34m(\u001b[0m\u001b[0mself\u001b[0m\u001b[0;34m,\u001b[0m \u001b[0maxlabels\u001b[0m\u001b[0;34m)\u001b[0m\u001b[0;34m:\u001b[0m\u001b[0;34m\u001b[0m\u001b[0;34m\u001b[0m\u001b[0m\n\u001b[1;32m    812\u001b[0m         \u001b[0;34m\"\"\"Finalize the annotations and layout.\"\"\"\u001b[0m\u001b[0;34m\u001b[0m\u001b[0;34m\u001b[0m\u001b[0m\n\u001b[0;32m--> 813\u001b[0;31m         \u001b[0mself\u001b[0m\u001b[0;34m.\u001b[0m\u001b[0mset_axis_labels\u001b[0m\u001b[0;34m(\u001b[0m\u001b[0;34m*\u001b[0m\u001b[0maxlabels\u001b[0m\u001b[0;34m)\u001b[0m\u001b[0;34m\u001b[0m\u001b[0;34m\u001b[0m\u001b[0m\n\u001b[0m\u001b[1;32m    814\u001b[0m         \u001b[0mself\u001b[0m\u001b[0;34m.\u001b[0m\u001b[0mset_titles\u001b[0m\u001b[0;34m(\u001b[0m\u001b[0;34m)\u001b[0m\u001b[0;34m\u001b[0m\u001b[0;34m\u001b[0m\u001b[0m\n\u001b[1;32m    815\u001b[0m         \u001b[0mself\u001b[0m\u001b[0;34m.\u001b[0m\u001b[0mtight_layout\u001b[0m\u001b[0;34m(\u001b[0m\u001b[0;34m)\u001b[0m\u001b[0;34m\u001b[0m\u001b[0;34m\u001b[0m\u001b[0m\n",
      "\u001b[0;32m/opt/conda/lib/python3.7/site-packages/seaborn/axisgrid.py\u001b[0m in \u001b[0;36mset_axis_labels\u001b[0;34m(self, x_var, y_var, clear_inner, **kwargs)\u001b[0m\n\u001b[1;32m    838\u001b[0m         \u001b[0;32mif\u001b[0m \u001b[0mx_var\u001b[0m \u001b[0;32mis\u001b[0m \u001b[0;32mnot\u001b[0m \u001b[0;32mNone\u001b[0m\u001b[0;34m:\u001b[0m\u001b[0;34m\u001b[0m\u001b[0;34m\u001b[0m\u001b[0m\n\u001b[1;32m    839\u001b[0m             \u001b[0mself\u001b[0m\u001b[0;34m.\u001b[0m\u001b[0m_x_var\u001b[0m \u001b[0;34m=\u001b[0m \u001b[0mx_var\u001b[0m\u001b[0;34m\u001b[0m\u001b[0;34m\u001b[0m\u001b[0m\n\u001b[0;32m--> 840\u001b[0;31m             \u001b[0mself\u001b[0m\u001b[0;34m.\u001b[0m\u001b[0mset_xlabels\u001b[0m\u001b[0;34m(\u001b[0m\u001b[0mx_var\u001b[0m\u001b[0;34m,\u001b[0m \u001b[0mclear_inner\u001b[0m\u001b[0;34m=\u001b[0m\u001b[0mclear_inner\u001b[0m\u001b[0;34m,\u001b[0m \u001b[0;34m**\u001b[0m\u001b[0mkwargs\u001b[0m\u001b[0;34m)\u001b[0m\u001b[0;34m\u001b[0m\u001b[0;34m\u001b[0m\u001b[0m\n\u001b[0m\u001b[1;32m    841\u001b[0m         \u001b[0;32mif\u001b[0m \u001b[0my_var\u001b[0m \u001b[0;32mis\u001b[0m \u001b[0;32mnot\u001b[0m \u001b[0;32mNone\u001b[0m\u001b[0;34m:\u001b[0m\u001b[0;34m\u001b[0m\u001b[0;34m\u001b[0m\u001b[0m\n\u001b[1;32m    842\u001b[0m             \u001b[0mself\u001b[0m\u001b[0;34m.\u001b[0m\u001b[0m_y_var\u001b[0m \u001b[0;34m=\u001b[0m \u001b[0my_var\u001b[0m\u001b[0;34m\u001b[0m\u001b[0;34m\u001b[0m\u001b[0m\n",
      "\u001b[0;32m/opt/conda/lib/python3.7/site-packages/seaborn/axisgrid.py\u001b[0m in \u001b[0;36mset_xlabels\u001b[0;34m(self, label, clear_inner, **kwargs)\u001b[0m\n\u001b[1;32m    850\u001b[0m             \u001b[0mlabel\u001b[0m \u001b[0;34m=\u001b[0m \u001b[0mself\u001b[0m\u001b[0;34m.\u001b[0m\u001b[0m_x_var\u001b[0m\u001b[0;34m\u001b[0m\u001b[0;34m\u001b[0m\u001b[0m\n\u001b[1;32m    851\u001b[0m         \u001b[0;32mfor\u001b[0m \u001b[0max\u001b[0m \u001b[0;32min\u001b[0m \u001b[0mself\u001b[0m\u001b[0;34m.\u001b[0m\u001b[0m_bottom_axes\u001b[0m\u001b[0;34m:\u001b[0m\u001b[0;34m\u001b[0m\u001b[0;34m\u001b[0m\u001b[0m\n\u001b[0;32m--> 852\u001b[0;31m             \u001b[0max\u001b[0m\u001b[0;34m.\u001b[0m\u001b[0mset_xlabel\u001b[0m\u001b[0;34m(\u001b[0m\u001b[0mlabel\u001b[0m\u001b[0;34m,\u001b[0m \u001b[0;34m**\u001b[0m\u001b[0mkwargs\u001b[0m\u001b[0;34m)\u001b[0m\u001b[0;34m\u001b[0m\u001b[0;34m\u001b[0m\u001b[0m\n\u001b[0m\u001b[1;32m    853\u001b[0m         \u001b[0;32mif\u001b[0m \u001b[0mclear_inner\u001b[0m\u001b[0;34m:\u001b[0m\u001b[0;34m\u001b[0m\u001b[0;34m\u001b[0m\u001b[0m\n\u001b[1;32m    854\u001b[0m             \u001b[0;32mfor\u001b[0m \u001b[0max\u001b[0m \u001b[0;32min\u001b[0m \u001b[0mself\u001b[0m\u001b[0;34m.\u001b[0m\u001b[0m_not_bottom_axes\u001b[0m\u001b[0;34m:\u001b[0m\u001b[0;34m\u001b[0m\u001b[0;34m\u001b[0m\u001b[0m\n",
      "\u001b[0;32m/opt/conda/lib/python3.7/site-packages/matplotlib/axes/_base.py\u001b[0m in \u001b[0;36mset_xlabel\u001b[0;34m(self, xlabel, fontdict, labelpad, loc, **kwargs)\u001b[0m\n\u001b[1;32m   3336\u001b[0m         \u001b[0;32melif\u001b[0m \u001b[0mloc\u001b[0m \u001b[0;34m==\u001b[0m \u001b[0;34m'right'\u001b[0m\u001b[0;34m:\u001b[0m\u001b[0;34m\u001b[0m\u001b[0;34m\u001b[0m\u001b[0m\n\u001b[1;32m   3337\u001b[0m             \u001b[0mkwargs\u001b[0m\u001b[0;34m.\u001b[0m\u001b[0mupdate\u001b[0m\u001b[0;34m(\u001b[0m\u001b[0mx\u001b[0m\u001b[0;34m=\u001b[0m\u001b[0;36m1\u001b[0m\u001b[0;34m,\u001b[0m \u001b[0mhorizontalalignment\u001b[0m\u001b[0;34m=\u001b[0m\u001b[0;34m'right'\u001b[0m\u001b[0;34m)\u001b[0m\u001b[0;34m\u001b[0m\u001b[0;34m\u001b[0m\u001b[0m\n\u001b[0;32m-> 3338\u001b[0;31m         \u001b[0;32mreturn\u001b[0m \u001b[0mself\u001b[0m\u001b[0;34m.\u001b[0m\u001b[0mxaxis\u001b[0m\u001b[0;34m.\u001b[0m\u001b[0mset_label_text\u001b[0m\u001b[0;34m(\u001b[0m\u001b[0mxlabel\u001b[0m\u001b[0;34m,\u001b[0m \u001b[0mfontdict\u001b[0m\u001b[0;34m,\u001b[0m \u001b[0;34m**\u001b[0m\u001b[0mkwargs\u001b[0m\u001b[0;34m)\u001b[0m\u001b[0;34m\u001b[0m\u001b[0;34m\u001b[0m\u001b[0m\n\u001b[0m\u001b[1;32m   3339\u001b[0m \u001b[0;34m\u001b[0m\u001b[0m\n\u001b[1;32m   3340\u001b[0m     \u001b[0;32mdef\u001b[0m \u001b[0minvert_xaxis\u001b[0m\u001b[0;34m(\u001b[0m\u001b[0mself\u001b[0m\u001b[0;34m)\u001b[0m\u001b[0;34m:\u001b[0m\u001b[0;34m\u001b[0m\u001b[0;34m\u001b[0m\u001b[0m\n",
      "\u001b[0;32m/opt/conda/lib/python3.7/site-packages/matplotlib/axis.py\u001b[0m in \u001b[0;36mset_label_text\u001b[0;34m(self, label, fontdict, **kwargs)\u001b[0m\n\u001b[1;32m   1560\u001b[0m         \"\"\"\n\u001b[1;32m   1561\u001b[0m         \u001b[0mself\u001b[0m\u001b[0;34m.\u001b[0m\u001b[0misDefault_label\u001b[0m \u001b[0;34m=\u001b[0m \u001b[0;32mFalse\u001b[0m\u001b[0;34m\u001b[0m\u001b[0;34m\u001b[0m\u001b[0m\n\u001b[0;32m-> 1562\u001b[0;31m         \u001b[0mself\u001b[0m\u001b[0;34m.\u001b[0m\u001b[0mlabel\u001b[0m\u001b[0;34m.\u001b[0m\u001b[0mset_text\u001b[0m\u001b[0;34m(\u001b[0m\u001b[0mlabel\u001b[0m\u001b[0;34m)\u001b[0m\u001b[0;34m\u001b[0m\u001b[0;34m\u001b[0m\u001b[0m\n\u001b[0m\u001b[1;32m   1563\u001b[0m         \u001b[0;32mif\u001b[0m \u001b[0mfontdict\u001b[0m \u001b[0;32mis\u001b[0m \u001b[0;32mnot\u001b[0m \u001b[0;32mNone\u001b[0m\u001b[0;34m:\u001b[0m\u001b[0;34m\u001b[0m\u001b[0;34m\u001b[0m\u001b[0m\n\u001b[1;32m   1564\u001b[0m             \u001b[0mself\u001b[0m\u001b[0;34m.\u001b[0m\u001b[0mlabel\u001b[0m\u001b[0;34m.\u001b[0m\u001b[0mupdate\u001b[0m\u001b[0;34m(\u001b[0m\u001b[0mfontdict\u001b[0m\u001b[0;34m)\u001b[0m\u001b[0;34m\u001b[0m\u001b[0;34m\u001b[0m\u001b[0m\n",
      "\u001b[0;32m/opt/conda/lib/python3.7/site-packages/matplotlib/text.py\u001b[0m in \u001b[0;36mset_text\u001b[0;34m(self, s)\u001b[0m\n\u001b[1;32m   1213\u001b[0m         \u001b[0;32mif\u001b[0m \u001b[0ms\u001b[0m \u001b[0;32mis\u001b[0m \u001b[0;32mNone\u001b[0m\u001b[0;34m:\u001b[0m\u001b[0;34m\u001b[0m\u001b[0;34m\u001b[0m\u001b[0m\n\u001b[1;32m   1214\u001b[0m             \u001b[0ms\u001b[0m \u001b[0;34m=\u001b[0m \u001b[0;34m''\u001b[0m\u001b[0;34m\u001b[0m\u001b[0;34m\u001b[0m\u001b[0m\n\u001b[0;32m-> 1215\u001b[0;31m         \u001b[0;32mif\u001b[0m \u001b[0ms\u001b[0m \u001b[0;34m!=\u001b[0m \u001b[0mself\u001b[0m\u001b[0;34m.\u001b[0m\u001b[0m_text\u001b[0m\u001b[0;34m:\u001b[0m\u001b[0;34m\u001b[0m\u001b[0;34m\u001b[0m\u001b[0m\n\u001b[0m\u001b[1;32m   1216\u001b[0m             \u001b[0mself\u001b[0m\u001b[0;34m.\u001b[0m\u001b[0m_text\u001b[0m \u001b[0;34m=\u001b[0m \u001b[0mstr\u001b[0m\u001b[0;34m(\u001b[0m\u001b[0ms\u001b[0m\u001b[0;34m)\u001b[0m\u001b[0;34m\u001b[0m\u001b[0;34m\u001b[0m\u001b[0m\n\u001b[1;32m   1217\u001b[0m             \u001b[0mself\u001b[0m\u001b[0;34m.\u001b[0m\u001b[0mstale\u001b[0m \u001b[0;34m=\u001b[0m \u001b[0;32mTrue\u001b[0m\u001b[0;34m\u001b[0m\u001b[0;34m\u001b[0m\u001b[0m\n",
      "\u001b[0;31mValueError\u001b[0m: The truth value of an array with more than one element is ambiguous. Use a.any() or a.all()"
     ]
    },
    {
     "data": {
      "image/png": "[encoded data removed]",
      "text/plain": [
       "<Figure size 3600x360 with 1 Axes>"
      ]
     },
     "metadata": {
      "needs_background": "light"
     },
     "output_type": "display_data"
    }
   ],
   "source": [
    "tvax = tweet_vax[['id', 'location', 'people_vaccinated_per_hundred', 'sentiment', 'region']]\n",
    "vaxandtweet = tvax.groupby('location').aggregate({'sentiment': 'mean', 'people_vaccinated_per_hundred': 'max'})\n",
    "sns.catplot(data=vaxandtweet, x=vaxandtweet.index, y='people_vaccinated_per_hundred', kind='bar', aspect=10)\n",
    "sns.catplot(data=vaxandtweet, x=vaxandtweet.index, y='sentiment', kind='bar', aspect=10)"
   ]
  },
  {
   "cell_type": "code",
   "execution_count": 20,
   "id": "e4c23105",
   "metadata": {},
   "outputs": [
    {
     "data": {
      "image/png": "[encoded data removed]",
      "text/plain": [
       "<Figure size 432x288 with 1 Axes>"
      ]
     },
     "metadata": {
      "needs_background": "light"
     },
     "output_type": "display_data"
    }
   ],
   "source": [
    "graph2 = sns.lineplot(data=vaxandtweet, x=\"sentiment\", y=\"people_vaccinated_per_hundred\")\n",
    "plt.savefig('graph_general_sentiments_countries', dpi=300)"
   ]
  },
  {
   "cell_type": "code",
   "execution_count": null,
   "id": "295e79c7",
   "metadata": {},
   "outputs": [],
   "source": []
  }
 ],
 "metadata": {
  "kernelspec": {
   "display_name": "Python 3 (ipykernel)",
   "language": "python",
   "name": "python3"
  },
  "language_info": {
   "codemirror_mode": {
    "name": "ipython",
    "version": 3
   },
   "file_extension": ".py",
   "mimetype": "text/x-python",
   "name": "python",
   "nbconvert_exporter": "python",
   "pygments_lexer": "ipython3",
   "version": "3.7.10"
  }
 },
 "nbformat": 4,
 "nbformat_minor": 5
}
